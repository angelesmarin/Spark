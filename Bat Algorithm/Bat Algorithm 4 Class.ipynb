{
 "cells": [
  {
   "cell_type": "markdown",
   "id": "edef71e0",
   "metadata": {},
   "source": [
    "## parameters"
   ]
  },
  {
   "cell_type": "code",
   "execution_count": 17,
   "id": "5cd35263",
   "metadata": {},
   "outputs": [],
   "source": [
    "import numpy as np\n",
    "import random\n",
    "import csv\n",
    "import time\n",
    "import matplotlib.pyplot as plt\n",
    "\n",
    "# Define Bat Algorithm parameters\n",
    "num_bats = 100\n",
    "max_iterations = 200\n",
    "frequency_min = 0.0\n",
    "frequency_max = 2.5\n",
    "alpha = 0.97\n",
    "gamma = 0.9\n",
    "initial_loudness = 1.0\n",
    "initial_pulse_rate = 0.5\n",
    "\n",
    "# Define the search space boundaries\n",
    "search_space = [(0, 100), (0, 100)]\n"
   ]
  },
  {
   "cell_type": "markdown",
   "id": "d157de72",
   "metadata": {},
   "source": [
    "## fitness function"
   ]
  },
  {
   "cell_type": "code",
   "execution_count": 18,
   "id": "713ce881",
   "metadata": {},
   "outputs": [],
   "source": [
    "def fitness(data, position, label):\n",
    "    centroid_x, centroid_y = position\n",
    "    distances = 0\n",
    "    for row in data:\n",
    "        if row['Class'] == label:\n",
    "            distances += ((row['x'] - centroid_x) ** 2 + (row['y'] - centroid_y) ** 2) ** 0.5\n",
    "    return distances\n"
   ]
  },
  {
   "cell_type": "markdown",
   "id": "94517f91",
   "metadata": {},
   "source": [
    "## Bat Algorithm function"
   ]
  },
  {
   "cell_type": "code",
   "execution_count": 19,
   "id": "b40087b3",
   "metadata": {},
   "outputs": [],
   "source": [
    "def BatAlgorithm(data, label):\n",
    "    # Initialize bat positions randomly within search space\n",
    "    positions = np.random.uniform(low=search_space[0][0], high=search_space[0][1], size=(num_bats, 2))\n",
    "    velocities = np.zeros_like(positions)\n",
    "    frequencies = np.zeros(num_bats)\n",
    "    loudness = np.full(num_bats, initial_loudness)\n",
    "    pulse_rate = np.full(num_bats, initial_pulse_rate)\n",
    "\n",
    "    # Initialize the global best position\n",
    "    gbest_position = positions[np.argmin([fitness(data, pos, label) for pos in positions])]\n",
    "    gbest_fitness = fitness(data, gbest_position, label)\n",
    "    tolerance = 0.001  # Early stopping tolerance\n",
    "\n",
    "    fitness_over_time = []\n",
    "\n",
    "    # Main loop of the Bat Algorithm\n",
    "    for iteration in range(max_iterations):\n",
    "        for i in range(num_bats):\n",
    "            frequencies[i] = frequency_min + (frequency_max - frequency_min) * random.random()\n",
    "            velocities[i] += (positions[i] - gbest_position) * frequencies[i]\n",
    "            positions[i] += velocities[i]\n",
    "\n",
    "            if random.random() > pulse_rate[i]:\n",
    "                positions[i] = gbest_position + 0.001 * np.random.randn(2)\n",
    "\n",
    "            # Ensure positions are within bounds\n",
    "            positions[i] = np.clip(positions[i], search_space[0][0], search_space[0][1])\n",
    "\n",
    "            # Evaluate fitness and update personal and global bests\n",
    "            current_fitness = fitness(data, positions[i], label)\n",
    "            if current_fitness < gbest_fitness and loudness[i] > random.random():\n",
    "                gbest_position = positions[i].copy()\n",
    "                gbest_fitness = current_fitness\n",
    "                loudness[i] *= alpha\n",
    "                pulse_rate[i] *= (1 - np.exp(-gamma * iteration))\n",
    "\n",
    "        fitness_over_time.append(gbest_fitness)\n",
    "\n",
    "        # Early stopping condition\n",
    "        if gbest_fitness < tolerance:\n",
    "            break\n",
    "\n",
    "    return gbest_position, fitness_over_time  # Return the final global best position and fitness over time\n"
   ]
  },
  {
   "cell_type": "markdown",
   "id": "aa4db165",
   "metadata": {},
   "source": [
    "## read the dataset"
   ]
  },
  {
   "cell_type": "code",
   "execution_count": 20,
   "id": "71fb5913",
   "metadata": {},
   "outputs": [],
   "source": [
    "def read_dataset(filename):\n",
    "    with open(filename, mode='r') as file:\n",
    "        reader = csv.DictReader(file)\n",
    "        return [dict(row, **{'x': float(row['x']), 'y': float(row['y'])}) for row in reader]\n"
   ]
  },
  {
   "cell_type": "markdown",
   "id": "756e8893",
   "metadata": {},
   "source": [
    "## compute centroids for each class label"
   ]
  },
  {
   "cell_type": "code",
   "execution_count": 21,
   "id": "d63be85f",
   "metadata": {},
   "outputs": [],
   "source": [
    "def compute_centroids(data, label):\n",
    "    centroid, fitness_over_time = BatAlgorithm(data, label)\n",
    "    return centroid, fitness_over_time\n"
   ]
  },
  {
   "cell_type": "markdown",
   "id": "75790827",
   "metadata": {},
   "source": [
    "## main script "
   ]
  },
  {
   "cell_type": "code",
   "execution_count": 22,
   "id": "85a14010",
   "metadata": {},
   "outputs": [
    {
     "name": "stdout",
     "output_type": "stream",
     "text": [
      "Final Centroids:\n",
      "Label A: [70.87421205 29.60752891]\n",
      "Label B: [70.2070041  70.20200993]\n",
      "Label C: [30.11325561 30.4489221 ]\n",
      "Label D: [29.67877705 69.94178556]\n",
      "Time taken (seconds): 58.936469078063965\n"
     ]
    }
   ],
   "source": [
    "start_time = time.time()\n",
    "dataset = read_dataset('/Users/angelesmarin/Desktop/4Cluster2Ddataset.csv')\n",
    "\n",
    "# Collect centroids for each class label\n",
    "centroid_A, fitness_A = compute_centroids(dataset, 'A')\n",
    "centroid_B, fitness_B = compute_centroids(dataset, 'B')\n",
    "centroid_C, fitness_C = compute_centroids(dataset, 'C')\n",
    "centroid_D, fitness_D = compute_centroids(dataset, 'D')\n",
    "\n",
    "# Print final centroids for each label\n",
    "print(\"Final Centroids:\")\n",
    "print(f\"Label A: {centroid_A}\")\n",
    "print(f\"Label B: {centroid_B}\")\n",
    "print(f\"Label C: {centroid_C}\")\n",
    "print(f\"Label D: {centroid_D}\")\n",
    "\n",
    "print(f\"Time taken (seconds): {time.time() - start_time}\")\n"
   ]
  },
  {
   "cell_type": "markdown",
   "id": "b4a1f92a",
   "metadata": {},
   "source": [
    "## fitness function values over iterations"
   ]
  },
  {
   "cell_type": "code",
   "execution_count": 23,
   "id": "13f34656",
   "metadata": {},
   "outputs": [
    {
     "data": {
      "image/png": "[encoded data removed]",
      "text/plain": [
       "<Figure size 1000x600 with 1 Axes>"
      ]
     },
     "metadata": {},
     "output_type": "display_data"
    }
   ],
   "source": [
    "plt.figure(figsize=(10, 6))\n",
    "plt.plot(fitness_A, label='Label A')\n",
    "plt.plot(fitness_B, label='Label B')\n",
    "plt.plot(fitness_C, label='Label C')\n",
    "plt.plot(fitness_D, label='Label D')\n",
    "plt.xlabel('Iterations')\n",
    "plt.ylabel('Fitness Value')\n",
    "plt.title('Fitness Function Values Over Time')\n",
    "plt.legend()\n",
    "plt.grid(True)\n",
    "plt.show()"
   ]
  },
  {
   "cell_type": "markdown",
   "id": "98629db3",
   "metadata": {},
   "source": [
    "### The fitness values for all labels decrease over time, indicating that the algorithm is converging toward better solutions\n",
    "### The fitness values stabilize after a certain number of iterations, suggesting that the algorithm has found near-optimal solutions and is not making significant improvements afterward\n",
    "### shows effective convergence for all labels, as the fitness values for each label decrease and stabilize over time. This suggests that the algorithm can find good solutions and improve them over iterations"
   ]
  },
  {
   "cell_type": "code",
   "execution_count": null,
   "id": "b2bbfbd4",
   "metadata": {},
   "outputs": [],
   "source": [
    "def read_dataset(filename):\n",
    "    with open(filename, mode='r') as file:\n",
    "        reader = csv.DictReader(file)\n",
    "        data = []\n",
    "        for row in reader:\n",
    "            row_data = {key: float(value) if key != 'Class' else value for key, value in row.items()}\n",
    "            data.append(row_data)\n",
    "        return data"
   ]
  },
  {
   "cell_type": "code",
   "execution_count": null,
   "id": "07fa339c",
   "metadata": {},
   "outputs": [],
   "source": [
    "def compute_centroids(data, label, dimensions, search_space):\n",
    "    centroid = BatAlgorithm(data, label, dimensions, search_space)\n",
    "    return centroid"
   ]
  },
  {
   "cell_type": "code",
   "execution_count": null,
   "id": "02fed52a",
   "metadata": {},
   "outputs": [],
   "source": [
    "start_time = time.time()\n",
    "dataset = read_dataset('/Users/angelesmarin/Desktop/4Cluster2Ddataset.csv')"
   ]
  },
  {
   "cell_type": "code",
   "execution_count": null,
   "id": "477f2431",
   "metadata": {},
   "outputs": [],
   "source": [
    "dimension_keys = [key for key in dataset[0].keys() if key != 'Class']\n",
    "search_space = (0, 100)  # Set search space boundaries for all dimensions"
   ]
  },
  {
   "cell_type": "code",
   "execution_count": null,
   "id": "6e9b5445",
   "metadata": {},
   "outputs": [],
   "source": [
    "labels = set(row['Class'] for row in dataset)\n",
    "centroids = {label: compute_centroids(dataset, label, dimension_keys, search_space) for label in labels}\n"
   ]
  },
  {
   "cell_type": "code",
   "execution_count": null,
   "id": "0d56bae7",
   "metadata": {},
   "outputs": [],
   "source": [
    "print(\"Final Centroids:\")\n",
    "for label, centroid in centroids.items():\n",
    "    print(f\"Label {label}: {centroid}\")\n"
   ]
  },
  {
   "cell_type": "code",
   "execution_count": null,
   "id": "fe288b1f",
   "metadata": {},
   "outputs": [],
   "source": [
    "print(f\"Time taken (seconds): {time.time() - start_time}\")\n"
   ]
  }
 ],
 "metadata": {
  "kernelspec": {
   "display_name": "Python 3 (ipykernel)",
   "language": "python",
   "name": "python3"
  },
  "language_info": {
   "codemirror_mode": {
    "name": "ipython",
    "version": 3
   },
   "file_extension": ".py",
   "mimetype": "text/x-python",
   "name": "python",
   "nbconvert_exporter": "python",
   "pygments_lexer": "ipython3",
   "version": "3.11.5"
  }
 },
 "nbformat": 4,
 "nbformat_minor": 5
}
