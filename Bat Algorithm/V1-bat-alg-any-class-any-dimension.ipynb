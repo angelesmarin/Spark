{
 "cells": [
  {
   "cell_type": "markdown",
   "id": "56041ffb",
   "metadata": {},
   "source": [
    "## parameters"
   ]
  },
  {
   "cell_type": "code",
   "execution_count": 1,
   "id": "90c09fec",
   "metadata": {},
   "outputs": [],
   "source": [
    "import numpy as np\n",
    "import random\n",
    "import csv\n",
    "import time\n",
    "import matplotlib.pyplot as plt\n",
    "\n",
    "# Define Bat Algorithm parameters\n",
    "num_bats = 20\n",
    "max_iterations = 100\n",
    "frequency_min = 0.0\n",
    "frequency_max = 2.5\n",
    "alpha = 0.97\n",
    "gamma = 0.9\n",
    "initial_loudness = 1.0\n",
    "initial_pulse_rate = 0.5\n"
   ]
  },
  {
   "cell_type": "markdown",
   "id": "2b766694",
   "metadata": {},
   "source": [
    "## fitness function"
   ]
  },
  {
   "cell_type": "code",
   "execution_count": 2,
   "id": "9f8b38d9",
   "metadata": {},
   "outputs": [],
   "source": [
    "def fitness(data, position, label, dimensions):\n",
    "    distances = 0\n",
    "    for row in data:\n",
    "        if row['class'] == label:\n",
    "            distance = sum((row[dim] - pos) ** 2 for dim, pos in zip(dimensions, position)) ** 0.5\n",
    "            distances += distance\n",
    "    return distances"
   ]
  },
  {
   "cell_type": "markdown",
   "id": "983c7ba4",
   "metadata": {},
   "source": [
    "## Bat Algorithm function"
   ]
  },
  {
   "cell_type": "code",
   "execution_count": 3,
   "id": "8c49c150",
   "metadata": {},
   "outputs": [],
   "source": [
    "def BatAlgorithm(data, label, dimensions, search_space):\n",
    "    # Initialize bat positions randomly within search space\n",
    "    positions = np.random.uniform(low=search_space[0], high=search_space[1], size=(num_bats, len(dimensions)))\n",
    "    velocities = np.zeros_like(positions)\n",
    "    frequencies = np.zeros(num_bats)\n",
    "    loudness = np.full(num_bats, initial_loudness)\n",
    "    pulse_rate = np.full(num_bats, initial_pulse_rate)\n",
    "\n",
    "    # Initialize the global best position\n",
    "    gbest_position = positions[np.argmin([fitness(data, pos, label, dimensions) for pos in positions])]\n",
    "    gbest_fitness = fitness(data, gbest_position, label, dimensions)\n",
    "    tolerance = 0.001\n",
    "    \n",
    "    fitness_over_time = []\n",
    "\n",
    "    # Main loop of the Bat Algorithm\n",
    "    for iteration in range(max_iterations):\n",
    "        for i in range(num_bats):\n",
    "            frequencies[i] = frequency_min + (frequency_max - frequency_min) * random.random()\n",
    "            velocities[i] += (positions[i] - gbest_position) * frequencies[i]\n",
    "            positions[i] += velocities[i]\n",
    "\n",
    "            if random.random() > pulse_rate[i]:\n",
    "                positions[i] = gbest_position + 0.001 * np.random.randn(len(dimensions))\n",
    "                \n",
    "            # Ensure positions are within bounds\n",
    "            positions[i] = np.clip(positions[i], search_space[0], search_space[1])\n",
    "\n",
    "            # Evaluate fitness and update personal and global bests\n",
    "            current_fitness = fitness(data, positions[i], label, dimensions)\n",
    "            if current_fitness < gbest_fitness and loudness[i] > random.random():\n",
    "                gbest_position = positions[i].copy()\n",
    "                gbest_fitness = current_fitness\n",
    "                loudness[i] *= alpha\n",
    "                pulse_rate[i] *= (1 - np.exp(-gamma * iteration))\n",
    "\n",
    "        fitness_over_time.append(gbest_fitness)\n",
    "\n",
    "        # Early stopping condition\n",
    "        if gbest_fitness < tolerance:\n",
    "            break\n",
    "\n",
    "    return gbest_position, fitness_over_time  # Return the final global best position and fitness over time\n"
   ]
  },
  {
   "cell_type": "markdown",
   "id": "cbd33c26",
   "metadata": {},
   "source": [
    "## read the dataset"
   ]
  },
  {
   "cell_type": "code",
   "execution_count": 4,
   "id": "bd5d232f",
   "metadata": {},
   "outputs": [],
   "source": [
    "def read_dataset(filename):\n",
    "    with open(filename, mode='r') as file:\n",
    "        reader = csv.DictReader(file)\n",
    "        data = []\n",
    "        for row in reader:\n",
    "            row_data = {key: float(value) if key != 'class' else value for key, value in row.items()}\n",
    "            data.append(row_data)\n",
    "        return data"
   ]
  },
  {
   "cell_type": "markdown",
   "id": "3cb74f4d",
   "metadata": {},
   "source": [
    "## compute centroids for each class label"
   ]
  },
  {
   "cell_type": "code",
   "execution_count": 5,
   "id": "7ee7ccec",
   "metadata": {},
   "outputs": [],
   "source": [
    "def compute_centroids(data, label, dimensions, search_space):\n",
    "    centroid, fitness_over_time = BatAlgorithm(data, label, dimensions, search_space)\n",
    "    return centroid, fitness_over_time\n"
   ]
  },
  {
   "cell_type": "markdown",
   "id": "ef2be62d",
   "metadata": {},
   "source": [
    "## main script "
   ]
  },
  {
   "cell_type": "code",
   "execution_count": 6,
   "id": "c384f050",
   "metadata": {},
   "outputs": [
    {
     "name": "stdout",
     "output_type": "stream",
     "text": [
      "Final Centroids:\n",
      "Label A: [20.07321451 36.33008522]\n",
      "Label B: [73.20735134 66.937756  ]\n",
      "Time taken (seconds): 2.1967360973358154\n"
     ]
    }
   ],
   "source": [
    "start_time = time.time()\n",
    "dataset = read_dataset('/Users/angelesmarin/Desktop/2C_2D_dataset.csv')\n",
    "\n",
    "dimension_keys = [key for key in dataset[0].keys() if key != 'class']\n",
    "search_space = (0, 100)  # Set search space boundaries for all dimensions\n",
    "\n",
    "labels = set(row['class'] for row in dataset)\n",
    "centroids = {label: compute_centroids(dataset, label, dimension_keys, search_space) for label in labels}\n",
    "\n",
    "print(\"Final Centroids:\")\n",
    "for label, (centroid, _) in centroids.items():\n",
    "    print(f\"Label {label}: {centroid}\")\n",
    "\n",
    "print(f\"Time taken (seconds): {time.time() - start_time}\")"
   ]
  },
  {
   "cell_type": "markdown",
   "id": "a72fb52e",
   "metadata": {},
   "source": [
    "## fitness function values over iterations"
   ]
  },
  {
   "cell_type": "code",
   "execution_count": 7,
   "id": "12c29762",
   "metadata": {
    "scrolled": false
   },
   "outputs": [
    {
     "data": {
      "image/png": "[encoded data removed]",
      "text/plain": [
       "<Figure size 1000x600 with 1 Axes>"
      ]
     },
     "metadata": {},
     "output_type": "display_data"
    }
   ],
   "source": [
    "plt.figure(figsize=(10, 6))\n",
    "for label, (_, fitness_over_time) in centroids.items():\n",
    "    plt.plot(fitness_over_time, label=f'Label {label}')\n",
    "plt.xlabel('Iterations')\n",
    "plt.ylabel('Fitness Value')\n",
    "plt.title('Fitness Function Values Over Time')\n",
    "plt.legend()\n",
    "plt.grid(True)\n",
    "plt.show()\n"
   ]
  },
  {
   "cell_type": "code",
   "execution_count": null,
   "id": "54358e78",
   "metadata": {},
   "outputs": [],
   "source": []
  }
 ],
 "metadata": {
  "kernelspec": {
   "display_name": "Python 3 (ipykernel)",
   "language": "python",
   "name": "python3"
  },
  "language_info": {
   "codemirror_mode": {
    "name": "ipython",
    "version": 3
   },
   "file_extension": ".py",
   "mimetype": "text/x-python",
   "name": "python",
   "nbconvert_exporter": "python",
   "pygments_lexer": "ipython3",
   "version": "3.11.5"
  }
 },
 "nbformat": 4,
 "nbformat_minor": 5
}
